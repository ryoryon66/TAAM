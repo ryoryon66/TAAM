{
 "cells": [
  {
   "cell_type": "code",
   "execution_count": 1,
   "metadata": {},
   "outputs": [
    {
     "name": "stdout",
     "output_type": "stream",
     "text": [
      "Requirement already satisfied: openpyxl in ./venv/lib/python3.10/site-packages (3.1.2)\n",
      "Requirement already satisfied: et-xmlfile in ./venv/lib/python3.10/site-packages (from openpyxl) (1.1.0)\n",
      "\u001b[33mWARNING: You are using pip version 21.2.3; however, version 23.3.1 is available.\n",
      "You should consider upgrading via the '/home/na172/TAAMetc/venv/bin/python -m pip install --upgrade pip' command.\u001b[0m\n",
      "Note: you may need to restart the kernel to use updated packages.\n"
     ]
    }
   ],
   "source": [
    "import sys\n",
    "sys.path.append('../')\n",
    "\n",
    "%pip install openpyxl\n",
    "\n",
    "from model_src.TAAMmodel import *\n",
    "import pandas as pd\n",
    "import numpy as np\n",
    "\n",
    "import sympy\n",
    "from sympy import S, Equivalent, simplify_logic"
   ]
  },
  {
   "cell_type": "code",
   "execution_count": 4,
   "metadata": {},
   "outputs": [
    {
     "name": "stdout",
     "output_type": "stream",
     "text": [
      "/home/na172/TAAMetc/examples\n"
     ]
    },
    {
     "name": "stderr",
     "output_type": "stream",
     "text": [
      "/home/na172/TAAMetc/venv/lib/python3.10/site-packages/IPython/core/magics/osm.py:417: UserWarning: using dhist requires you to install the `pickleshare` library.\n",
      "  self.shell.db['dhist'] = compress_dhist(dhist)[-100:]\n"
     ]
    }
   ],
   "source": [
    "%cd ./examples/"
   ]
  },
  {
   "cell_type": "code",
   "execution_count": 41,
   "metadata": {},
   "outputs": [
    {
     "name": "stdout",
     "output_type": "stream",
     "text": [
      "validation of aass1\n",
      "validation of aass2\n",
      "validation of das\n",
      "validation of e_constructed\n",
      "checking esr\n",
      "validation of fad_constructed\n",
      "validation of i\n",
      "validation of kos\n",
      "validation of mat\n",
      "validation of nnp\n",
      "validation of nsa\n",
      "validation of ss1\n",
      "validation of ss2\n",
      "validation of tr\n",
      "validation of vi\n"
     ]
    },
    {
     "data": {
      "text/plain": [
       "{'aass1': False,\n",
       " 'aass2': False,\n",
       " 'das': False,\n",
       " 'e_constructed_esr': False,\n",
       " 'fad_constructed': False,\n",
       " 'i': False,\n",
       " 'kos': False,\n",
       " 'mat': False,\n",
       " 'nnp': False,\n",
       " 'nsa': False,\n",
       " 'ss1': False,\n",
       " 'ss2': False,\n",
       " 'tr': False,\n",
       " 'vi': False}"
      ]
     },
     "execution_count": 41,
     "metadata": {},
     "output_type": "execute_result"
    }
   ],
   "source": [
    "\n",
    "# 制約eの検査に2分程度かかる\n",
    "files = [\n",
    "    \"aass1\",\n",
    "    \"aass2\",\n",
    "    # \"bat\", downarrow未対応 計算時間がかかりすぎるので対応しないことになった\n",
    "    \"das\",\n",
    "    \"e_constructed\", # 複数nodeあり、distributive　対応後回し _対応が必要\n",
    "    \"fad_constructed\",\n",
    "    \"i\",\n",
    "    \"kos\", \n",
    "    \"mat\",\n",
    "    \"nnp\",\n",
    "    \"nsa\",\n",
    "    # \"pr\", # 誤植 _対応が必要\n",
    "    \"ss1\",\n",
    "    \"ss2\",\n",
    "    \"tr\",\n",
    "    \"vi\"\n",
    "]\n",
    "\n",
    "results = dict()\n",
    "\n",
    "import os\n",
    "\n",
    "for file in files:\n",
    "\n",
    "    print(f\"validation of {file}\")\n",
    "\n",
    "    model = TAAMModel(file_path= file + \".xlsx\")\n",
    "\n",
    "    if \"aass\" in file:\n",
    "        results[file] = model.meet_aass()\n",
    "\n",
    "    elif \"bat\" in file:\n",
    "        results[file] = model.meet_bat()\n",
    "\n",
    "    elif \"das\" in file:\n",
    "        results[file] = model.meet_das()\n",
    "\n",
    "    elif \"fad\" in file:\n",
    "        results[file] = model.meet_faD()\n",
    "\n",
    "    elif \"kos\" in file:\n",
    "        results[file] = model.meet_kos()\n",
    "\n",
    "    elif \"mat\" in file:\n",
    "        results[file] = model.meet_mat()\n",
    "\n",
    "    elif \"nnp\" in file:\n",
    "        results[file] = model.meet_nnp()\n",
    "\n",
    "    elif \"nsa\" in file:\n",
    "        results[file] = model.meet_nsa()\n",
    "\n",
    "    elif \"pr\" in file:\n",
    "        results[file] = model.meet_pr()\n",
    "\n",
    "    elif \"ss\" in file:\n",
    "        results[file] = model.meet_ss()\n",
    "\n",
    "    elif \"vi\" in file:\n",
    "        results[file] = model.meet_vi()\n",
    "    \n",
    "    elif \"e\" in file:\n",
    "        # raise NotImplementedError()\n",
    "    \n",
    "        # checking eos is time consuming. about 2 minutes.\n",
    "        # print(\"checking eos\")\n",
    "        # results[file +\"_eos\"] = model.meet_eos()\n",
    "        print(\"checking esr\")\n",
    "        results[file + \"_esr\"] = model.meet_esr()\n",
    "        # print(\"checking ensr\")\n",
    "        # results[file + \"_ensr\"] = model.meet_ensr()\n",
    "\n",
    "    elif \"i\" in file:\n",
    "        results[file] = model.meet_i()\n",
    "        \n",
    "    elif \"tr\" in file:\n",
    "        results[file] = model.meet_tr()\n",
    "    \n",
    "    else:\n",
    "        assert False, \"did not match\"\n",
    "results\n"
   ]
  },
  {
   "cell_type": "code",
   "execution_count": 39,
   "metadata": {},
   "outputs": [],
   "source": [
    "# visualization\n",
    "FILENAME = \"nnp.xlsx\"\n",
    "model = TAAMModel(file_path= FILENAME)"
   ]
  },
  {
   "cell_type": "code",
   "execution_count": 40,
   "metadata": {},
   "outputs": [],
   "source": [
    "import pprint \n",
    "description = f\"\"\"\n",
    "filename: {FILENAME}\n",
    "propositional variables: \n",
    "{model.D}\n",
    "\n",
    "interpretation:\n",
    "{pprint.pformat(model.I.mapping)}\n",
    "\n",
    "bit_pattern_representation_flag:\n",
    "{pprint.pformat(model.I.is_bit_pattern)}\n",
    "\"\"\"\n",
    "\n",
    "model.visualize(description=f\"{description}\")"
   ]
  },
  {
   "cell_type": "code",
   "execution_count": null,
   "metadata": {},
   "outputs": [],
   "source": []
  }
 ],
 "metadata": {
  "kernelspec": {
   "display_name": "TAAM",
   "language": "python",
   "name": "python3"
  },
  "language_info": {
   "codemirror_mode": {
    "name": "ipython",
    "version": 3
   },
   "file_extension": ".py",
   "mimetype": "text/x-python",
   "name": "python",
   "nbconvert_exporter": "python",
   "pygments_lexer": "ipython3",
   "version": "3.10.0"
  },
  "orig_nbformat": 4
 },
 "nbformat": 4,
 "nbformat_minor": 2
}
