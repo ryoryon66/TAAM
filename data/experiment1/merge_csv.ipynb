{
 "cells": [
  {
   "cell_type": "code",
   "execution_count": 20,
   "id": "9b5aea1a",
   "metadata": {},
   "outputs": [
    {
     "name": "stdout",
     "output_type": "stream",
     "text": [
      "zsh:cd:1: no such file or directory: data/experiment1/\n",
      "/Users/nakairyoma/Desktop/TAAMetc/data/experiment1\n",
      "README.md                    subPC_time_data1.csv\n",
      "analyze.ipynb                subPC_time_data2.csv\n",
      "group_by_Aord_size.png       subPC_time_data3.csv\n",
      "group_by_Themes_size.png     test.png\n",
      "group_by_num_nodes.png       tf_corr.png\n",
      "group_by_num_onode.png       time_corr.png\n",
      "group_by_num_pnode.png       time_data.csv\n",
      "mainPC_time_data1.csv        time_data_mainPC.csv\n",
      "mainPC_time_data2.csv        time_data_merged.csv\n",
      "mainPC_time_data3.csv        time_data_mergedmerged.csv\n",
      "merge_csv.ipynb              time_data_subPC.csv\n",
      "propvar3.png                 time_dataのコピー.csv\n",
      "split_csv.ipynb\n"
     ]
    }
   ],
   "source": [
    "import pandas as pd\n",
    "!cd data/experiment1/\n",
    "!pwd\n",
    "!ls"
   ]
  },
  {
   "cell_type": "code",
   "execution_count": 21,
   "id": "c409a0b6",
   "metadata": {},
   "outputs": [
    {
     "name": "stdout",
     "output_type": "stream",
     "text": [
      "(105488, 49)\n",
      "(105489, 49)\n",
      "(105489, 49)\n",
      "(78518, 49)\n",
      "(78519, 49)\n",
      "(78519, 49)\n"
     ]
    }
   ],
   "source": [
    "dfs = []\n",
    "\n",
    "base = \"/Users/nakairyoma/Desktop/TAAMetc/data/experiment1/\"\n",
    "\n",
    "\n",
    "filenames = [\n",
    "    \"mainPC_time_data1.csv\",\n",
    "    \"mainPC_time_data2.csv\",\n",
    "    \"mainPC_time_data3.csv\",\n",
    "    \"subPC_time_data1.csv\",\n",
    "    \"subPC_time_data2.csv\",\n",
    "    \"subPC_time_data3.csv\",\n",
    "]\n",
    "\n",
    "for f in filenames:\n",
    "    df = pd.read_csv(base + f)\n",
    "    dfs.append(df)\n",
    "    print(df.shape)"
   ]
  },
  {
   "cell_type": "code",
   "execution_count": 22,
   "id": "a4ede9f6",
   "metadata": {},
   "outputs": [],
   "source": [
    "def merge_dfs(dfs):\n",
    "    df_all = pd.concat(dfs,axis=0)\n",
    "    return df_all"
   ]
  },
  {
   "cell_type": "code",
   "execution_count": 23,
   "id": "85706fdb",
   "metadata": {},
   "outputs": [],
   "source": [
    "df_all = merge_dfs(dfs)"
   ]
  },
  {
   "cell_type": "code",
   "execution_count": 24,
   "id": "cd0bfab1",
   "metadata": {},
   "outputs": [
    {
     "data": {
      "text/plain": [
       "(552022, 49)"
      ]
     },
     "execution_count": 24,
     "metadata": {},
     "output_type": "execute_result"
    }
   ],
   "source": [
    "df_all.shape"
   ]
  },
  {
   "cell_type": "code",
   "execution_count": 25,
   "id": "13eb3310",
   "metadata": {},
   "outputs": [],
   "source": [
    "df_all.to_csv(base + \"time_data_merged.csv\",index = False)"
   ]
  },
  {
   "cell_type": "code",
   "execution_count": null,
   "id": "69f1a7b9",
   "metadata": {},
   "outputs": [],
   "source": []
  }
 ],
 "metadata": {
  "kernelspec": {
   "display_name": "Python 3 (ipykernel)",
   "language": "python",
   "name": "python3"
  },
  "language_info": {
   "codemirror_mode": {
    "name": "ipython",
    "version": 3
   },
   "file_extension": ".py",
   "mimetype": "text/x-python",
   "name": "python",
   "nbconvert_exporter": "python",
   "pygments_lexer": "ipython3",
   "version": "3.10.6"
  }
 },
 "nbformat": 4,
 "nbformat_minor": 5
}
